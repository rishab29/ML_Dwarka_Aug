{
 "cells": [
  {
   "cell_type": "code",
   "execution_count": 23,
   "metadata": {},
   "outputs": [],
   "source": [
    "import numpy as np\n",
    "import pandas as pd\n",
    "import matplotlib.pyplot as plt"
   ]
  },
  {
   "cell_type": "code",
   "execution_count": 71,
   "metadata": {},
   "outputs": [
    {
     "name": "stdout",
     "output_type": "stream",
     "text": [
      "(500, 2)\n",
      "(500, 2)\n"
     ]
    }
   ],
   "source": [
    "mean1=[2,4]\n",
    "cov1=[[1,0.3],[0.3,1]]\n",
    "\n",
    "d1=np.random.multivariate_normal(mean1,cov1,500)\n",
    "\n",
    "mean2=[6,7]\n",
    "cov2=[[1,0.7],[0.7,1]]\n",
    "\n",
    "d2=np.random.multivariate_normal(mean2,cov2,500)\n",
    "print(d1.shape)\n",
    "print(d2.shape)\n"
   ]
  },
  {
   "cell_type": "code",
   "execution_count": 72,
   "metadata": {},
   "outputs": [
    {
     "data": {
      "image/png": "[encoded data removed]",
      "text/plain": [
       "<Figure size 432x288 with 1 Axes>"
      ]
     },
     "metadata": {
      "needs_background": "light"
     },
     "output_type": "display_data"
    }
   ],
   "source": [
    "plt.scatter(d1[:,0],d1[:,1],c='red')\n",
    "plt.scatter(d2[:,0],d1[:,1],c='green')\n",
    "plt.show()"
   ]
  },
  {
   "cell_type": "code",
   "execution_count": 73,
   "metadata": {},
   "outputs": [
    {
     "name": "stdout",
     "output_type": "stream",
     "text": [
      "(1000, 3)\n"
     ]
    }
   ],
   "source": [
    "# red is 0 and green is 1\n",
    "data=np.zeros((d1.shape[0]+d2.shape[0],d1.shape[1]+1))\n",
    "data[:d1.shape[0],:-1]=d1\n",
    "data[:d1.shape[0],-1]=0\n",
    "\n",
    "data[d1.shape[0]:,:-1]=d2\n",
    "data[d1.shape[0]:,-1]=1\n",
    "\n",
    "print(data.shape)\n",
    "np.random.shuffle(data)\n"
   ]
  },
  {
   "cell_type": "code",
   "execution_count": 74,
   "metadata": {},
   "outputs": [
    {
     "name": "stdout",
     "output_type": "stream",
     "text": [
      "[[1.97397467 2.52799295 0.        ]\n",
      " [3.19668715 4.62359366 0.        ]\n",
      " [1.94924934 4.01243181 0.        ]\n",
      " ...\n",
      " [5.67037739 7.33199812 1.        ]\n",
      " [5.3099002  5.3534192  1.        ]\n",
      " [5.77742028 7.50888048 1.        ]]\n"
     ]
    }
   ],
   "source": [
    "print(data)"
   ]
  },
  {
   "cell_type": "code",
   "execution_count": 75,
   "metadata": {},
   "outputs": [],
   "source": [
    "from sklearn.model_selection import train_test_split"
   ]
  },
  {
   "cell_type": "code",
   "execution_count": 76,
   "metadata": {},
   "outputs": [
    {
     "name": "stdout",
     "output_type": "stream",
     "text": [
      "(800, 2)\n",
      "(200, 2)\n",
      "(800,)\n",
      "(200,)\n"
     ]
    }
   ],
   "source": [
    "X_train,X_test,y_train,y_test=train_test_split(data[:,:-1],data[:,-1],test_size=0.2)\n",
    "print(X_train.shape)\n",
    "print(X_test.shape)\n",
    "print(y_train.shape)\n",
    "print(y_test.shape)"
   ]
  },
  {
   "cell_type": "code",
   "execution_count": 77,
   "metadata": {},
   "outputs": [],
   "source": [
    "class LogisticRegression:\n",
    "    def __init__(self,X,y):\n",
    "        self.X=X\n",
    "        self.y=y\n",
    "        self.w0=np.random.random()\n",
    "        self.w=np.random.uniform(low=-1,high=1,size=(self.X.shape[1],))\n",
    "    def hypothesis(self,x):\n",
    "        z=self.w0+self.w.dot(x)\n",
    "        return self.sigmoid(z)\n",
    "    def sigmoid(self,z):\n",
    "        return 1/(1+np.exp(-z))\n",
    "    def predict(self,x):\n",
    "        hx=self.hypothesis(x)\n",
    "        if hx>=0.5:\n",
    "            return 1\n",
    "        else:\n",
    "            return 0\n",
    "    def compute_loss(self):\n",
    "        log_loss=0\n",
    "        for x,y in zip(self.X,self.y):\n",
    "            yhat=self.hypothesis(x)\n",
    "            log_loss=log_loss+(y*np.log2(yhat+1e-3)+(1-y)*np.log2(1-yhat+1e-3))\n",
    "        negative_log_likelihood=-1*log_loss\n",
    "        return negative_log_likelihood\n",
    "    def compute_gradients(self):\n",
    "        grad0=0\n",
    "        grad=np.zeros_like(self.w)\n",
    "        i=0\n",
    "        for x,y in zip(self.X,self.y):\n",
    "            yhat=self.hypothesis(x)\n",
    "            grad0=grad0+(yhat-y)\n",
    "            grad=grad+((yhat-y)*x)\n",
    "        gradients = grad0 , grad\n",
    "        return gradients\n",
    "    def update_gradients(self,gradients,learning_rate=0.01):\n",
    "        self.w0=self.w0-(learning_rate*gradients[0])\n",
    "        self.w=self.w-(learning_rate*gradients[1])\n",
    "        \n",
    "    def train(self,losses,iterations,learning_rate=0.01):\n",
    "        for i in range(iterations):\n",
    "            gradients=self.compute_gradients()\n",
    "            self.update_gradients(gradients,learning_rate)\n",
    "            losses.append(self.compute_loss())\n",
    "        return losses\n",
    "    def accuracy(self,x_test,y_test):\n",
    "        predictions=[]\n",
    "        for x,y in zip(x_test,y_test):\n",
    "            pred=self.predict(x)\n",
    "            predictions.append(pred)\n",
    "        accuracy=(predictions==y_test).sum()/x_test.shape[0]\n",
    "        return accuracy\n",
    "            \n",
    "            \n",
    "        "
   ]
  },
  {
   "cell_type": "code",
   "execution_count": 78,
   "metadata": {},
   "outputs": [
    {
     "name": "stdout",
     "output_type": "stream",
     "text": [
      "w0 :  0.4387206309180244\n",
      "w:  [0.03529159 0.78792228]\n"
     ]
    }
   ],
   "source": [
    "logreg=LogisticRegression(X_train,y_train)\n",
    "print(\"w0 : \",logreg.w0)\n",
    "print(\"w: \",logreg.w)"
   ]
  },
  {
   "cell_type": "code",
   "execution_count": 79,
   "metadata": {},
   "outputs": [
    {
     "name": "stdout",
     "output_type": "stream",
     "text": [
      "[2092.2568825087124]\n"
     ]
    }
   ],
   "source": [
    "losses=[]\n",
    "initial_loss=logreg.compute_loss()\n",
    "losses.append(initial_loss)\n",
    "print(losses)"
   ]
  },
  {
   "cell_type": "code",
   "execution_count": 80,
   "metadata": {},
   "outputs": [],
   "source": [
    "def draw_decision_boundary():\n",
    "    plt.scatter(d1[:,0],d1[:,1],c='red')\n",
    "    plt.scatter(d2[:,0],d1[:,1],c='green')\n",
    "    x=np.array([0,6])\n",
    "    y=-(logreg.w0+logreg.w[0]*x)/logreg.w[1]\n",
    "    plt.plot(x,y,c='black')\n",
    "    plt.show()"
   ]
  },
  {
   "cell_type": "code",
   "execution_count": 81,
   "metadata": {},
   "outputs": [
    {
     "data": {
      "image/png": "[encoded data removed]",
      "text/plain": [
       "<Figure size 432x288 with 1 Axes>"
      ]
     },
     "metadata": {
      "needs_background": "light"
     },
     "output_type": "display_data"
    }
   ],
   "source": [
    "draw_decision_boundary()"
   ]
  },
  {
   "cell_type": "code",
   "execution_count": 82,
   "metadata": {},
   "outputs": [
    {
     "data": {
      "text/plain": [
       "[2092.2568825087124,\n",
       " 3965.8024716779028,\n",
       " 3995.9006870254225,\n",
       " 1649.406245353392,\n",
       " 3965.8024716992654,\n",
       " 3995.704139137236,\n",
       " 3734.7325576998196,\n",
       " 3965.809544712309,\n",
       " 3985.7390705737876,\n",
       " 3351.925354007536,\n",
       " 3862.0004236723935,\n",
       " 3985.719429502238,\n",
       " 3175.1724969754123,\n",
       " 2092.226835758294,\n",
       " 3567.0564890464834,\n",
       " 672.1867668009261,\n",
       " 763.2177249364994,\n",
       " 735.4256177191726,\n",
       " 1162.9648249252516,\n",
       " 1950.2722796468581,\n",
       " 1549.9110328975512,\n",
       " 2860.6269020609575,\n",
       " 1218.1244803599013,\n",
       " 2009.0813341187559,\n",
       " 1181.319516300267,\n",
       " 1872.1896397753053,\n",
       " 1055.92907783255,\n",
       " 1549.3153174310762,\n",
       " 935.6412511122917,\n",
       " 1300.678958661031,\n",
       " 945.4781451685196]"
      ]
     },
     "execution_count": 82,
     "metadata": {},
     "output_type": "execute_result"
    }
   ],
   "source": [
    "logreg.train(losses,30,0.01)"
   ]
  },
  {
   "cell_type": "code",
   "execution_count": 83,
   "metadata": {},
   "outputs": [
    {
     "data": {
      "image/png": "[encoded data removed]",
      "text/plain": [
       "<Figure size 432x288 with 1 Axes>"
      ]
     },
     "metadata": {
      "needs_background": "light"
     },
     "output_type": "display_data"
    }
   ],
   "source": [
    "draw_decision_boundary()"
   ]
  },
  {
   "cell_type": "code",
   "execution_count": 84,
   "metadata": {},
   "outputs": [
    {
     "data": {
      "image/png": "[encoded data removed]",
      "text/plain": [
       "<Figure size 432x288 with 1 Axes>"
      ]
     },
     "metadata": {
      "needs_background": "light"
     },
     "output_type": "display_data"
    }
   ],
   "source": [
    "plt.plot(losses)\n",
    "plt.show()"
   ]
  },
  {
   "cell_type": "code",
   "execution_count": 85,
   "metadata": {},
   "outputs": [
    {
     "name": "stdout",
     "output_type": "stream",
     "text": [
      "0.855\n"
     ]
    }
   ],
   "source": [
    "print(logreg.accuracy(X_test,y_test))"
   ]
  },
  {
   "cell_type": "code",
   "execution_count": 86,
   "metadata": {},
   "outputs": [
    {
     "name": "stdout",
     "output_type": "stream",
     "text": [
      "w0 :  -25.894555648335135\n",
      "w:  [ 28.81328402 -18.8017418 ]\n"
     ]
    }
   ],
   "source": [
    "print(\"w0 : \",logreg.w0)\n",
    "print(\"w: \",logreg.w)"
   ]
  },
  {
   "cell_type": "markdown",
   "metadata": {},
   "source": [
    "# SKLearn Logistic Regression"
   ]
  },
  {
   "cell_type": "code",
   "execution_count": 87,
   "metadata": {},
   "outputs": [],
   "source": [
    "from sklearn.linear_model import LogisticRegression\n",
    "sklogreg=LogisticRegression()"
   ]
  },
  {
   "cell_type": "code",
   "execution_count": 88,
   "metadata": {},
   "outputs": [
    {
     "name": "stderr",
     "output_type": "stream",
     "text": [
      "/Library/Frameworks/Python.framework/Versions/3.7/lib/python3.7/site-packages/sklearn/linear_model/logistic.py:433: FutureWarning: Default solver will be changed to 'lbfgs' in 0.22. Specify a solver to silence this warning.\n",
      "  FutureWarning)\n"
     ]
    },
    {
     "data": {
      "text/plain": [
       "LogisticRegression(C=1.0, class_weight=None, dual=False, fit_intercept=True,\n",
       "          intercept_scaling=1, max_iter=100, multi_class='warn',\n",
       "          n_jobs=None, penalty='l2', random_state=None, solver='warn',\n",
       "          tol=0.0001, verbose=0, warm_start=False)"
      ]
     },
     "execution_count": 88,
     "metadata": {},
     "output_type": "execute_result"
    }
   ],
   "source": [
    "sklogreg.fit(X_train,y_train)"
   ]
  },
  {
   "cell_type": "code",
   "execution_count": 89,
   "metadata": {},
   "outputs": [
    {
     "data": {
      "text/plain": [
       "0.99"
      ]
     },
     "execution_count": 89,
     "metadata": {},
     "output_type": "execute_result"
    }
   ],
   "source": [
    "sklogreg.score(X_test,y_test)"
   ]
  },
  {
   "cell_type": "code",
   "execution_count": 90,
   "metadata": {},
   "outputs": [
    {
     "data": {
      "text/plain": [
       "array([[ 2.16698225, -0.0622242 ]])"
      ]
     },
     "execution_count": 90,
     "metadata": {},
     "output_type": "execute_result"
    }
   ],
   "source": [
    "sklogreg.coef_"
   ]
  },
  {
   "cell_type": "code",
   "execution_count": 91,
   "metadata": {},
   "outputs": [
    {
     "data": {
      "text/plain": [
       "array([-8.04311358])"
      ]
     },
     "execution_count": 91,
     "metadata": {},
     "output_type": "execute_result"
    }
   ],
   "source": [
    "sklogreg.intercept_"
   ]
  },
  {
   "cell_type": "code",
   "execution_count": null,
   "metadata": {},
   "outputs": [],
   "source": []
  },
  {
   "cell_type": "code",
   "execution_count": null,
   "metadata": {},
   "outputs": [],
   "source": []
  },
  {
   "cell_type": "code",
   "execution_count": null,
   "metadata": {},
   "outputs": [],
   "source": []
  }
 ],
 "metadata": {
  "kernelspec": {
   "display_name": "Python 3",
   "language": "python",
   "name": "python3"
  },
  "language_info": {
   "codemirror_mode": {
    "name": "ipython",
    "version": 3
   },
   "file_extension": ".py",
   "mimetype": "text/x-python",
   "name": "python",
   "nbconvert_exporter": "python",
   "pygments_lexer": "ipython3",
   "version": "3.7.0"
  }
 },
 "nbformat": 4,
 "nbformat_minor": 2
}
