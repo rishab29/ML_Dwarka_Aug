{
 "cells": [
  {
   "cell_type": "code",
   "execution_count": 1,
   "metadata": {},
   "outputs": [],
   "source": [
    "import pandas as pd\n",
    "import numpy as np\n",
    "import matplotlib.pyplot as plt"
   ]
  },
  {
   "cell_type": "code",
   "execution_count": 2,
   "metadata": {},
   "outputs": [],
   "source": [
    "ds=pd.read_csv(\"../Datasets/mnist/train.csv\")\n",
    "ds=ds.values"
   ]
  },
  {
   "cell_type": "code",
   "execution_count": 3,
   "metadata": {},
   "outputs": [],
   "source": [
    "X=ds[:,1:]\n",
    "y=ds[:,0]"
   ]
  },
  {
   "cell_type": "code",
   "execution_count": 4,
   "metadata": {},
   "outputs": [
    {
     "name": "stdout",
     "output_type": "stream",
     "text": [
      "(42000, 784)\n",
      "(42000,)\n"
     ]
    }
   ],
   "source": [
    "print(X.shape)\n",
    "print(y.shape)"
   ]
  },
  {
   "cell_type": "code",
   "execution_count": 5,
   "metadata": {},
   "outputs": [
    {
     "name": "stdout",
     "output_type": "stream",
     "text": [
      "[1 0 1 ... 7 6 9]\n"
     ]
    }
   ],
   "source": [
    "print(y)"
   ]
  },
  {
   "cell_type": "code",
   "execution_count": 35,
   "metadata": {},
   "outputs": [],
   "source": [
    "class NeuralNetwork:\n",
    "    def __init__(self,X,y):\n",
    "        self.X=(X-X.min())/(X.max()-X.min())\n",
    "        self.y=y\n",
    "        self.INPUT_SIZE=X.shape[1]\n",
    "        self.OUTPUT_SIZE=len(np.unique(y))\n",
    "        self.H1_SIZE=256\n",
    "        self.H2_SIZE=64\n",
    "        self.losses=[]\n",
    "        \n",
    "        #Initialise weights\n",
    "        self.W1=np.random.randn(self.INPUT_SIZE,self.H1_SIZE)\n",
    "        self.W2=np.random.randn(self.H1_SIZE,self.H2_SIZE)\n",
    "        self.W3=np.random.rand(self.H2_SIZE,self.OUTPUT_SIZE)\n",
    "        \n",
    "        #initialise bias\n",
    "        self.b1=np.random.random((1,self.H1_SIZE))\n",
    "        self.b2=np.random.random((1,self.H2_SIZE))\n",
    "        self.b3=np.random.random((1,self.OUTPUT_SIZE))\n",
    "    def sigmoid(self,z):\n",
    "        return 1/(1+np.exp(-z))\n",
    "    def sigmoid_prime(self,z):\n",
    "        s=self.sigmoid(z)\n",
    "        return s*(1-s)\n",
    "    def softmax(self,z):\n",
    "        return np.exp(z)/np.sum(np.exp(z),keepdims=True,axis=1)\n",
    "    def get_prediction(self,test):\n",
    "        yhat=self.forward(test)\n",
    "        preds=np.argmax(yhat,axis=1)\n",
    "        return preds\n",
    "    def accuracy(self,pred,true_labels):\n",
    "        return (pred==true_labels).mean()\n",
    "    def compute_loss(self,y,yhat):\n",
    "        return -np.sum(y*np.log(yhat))\n",
    "    def forward(self,x):\n",
    "        Z1=x.dot(self.W1)+self.b1\n",
    "        A1=self.sigmoid(Z1)\n",
    "        Z2=A1.dot(self.W2)+self.b2\n",
    "        A2=self.sigmoid(Z2)\n",
    "        Z3=A2.dot(self.W3)+self.b3\n",
    "        yhat=self.softmax(Z3)\n",
    "        \n",
    "        self.activations=[A1,A2,yhat]\n",
    "        return yhat\n",
    "    def backprop(self,x,y,yhat,learning_rate=0.01):\n",
    "        A1,A2,yhat=self.activations\n",
    "        \n",
    "        delta3=yhat-y\n",
    "        dldw3=A2.T.dot(delta3)\n",
    "        dldb3=delta3.sum(axis=0,keepdims=True)\n",
    "        \n",
    "        delta2=delta3.dot(self.W3.T)*(A2*(1-A2))\n",
    "        dldw2=A1.T.dot(delta2)\n",
    "        dldb2=delta2.sum(axis=0,keepdims=True)\n",
    "        \n",
    "        delta1=delta2.dot(self.W2.T)*(A1*(1-A1))\n",
    "        dldw1=x.T.dot(delta1)\n",
    "        dldb1=delta1.sum(axis=0,keepdims=True)\n",
    "        \n",
    "        self.W3=self.W3-learning_rate*dldw3\n",
    "        self.b3=self.b3-learning_rate*dldb3\n",
    "        \n",
    "        self.W2=self.W2-learning_rate*dldw2\n",
    "        self.b2=self.b2-learning_rate*dldb2\n",
    "        \n",
    "        self.W1=self.W1-learning_rate*dldw1\n",
    "        self.b1=self.b1-learning_rate*dldb1\n",
    "    def get_one_hot_vector(self,labels):\n",
    "        classes=len(np.unique(labels))\n",
    "        vectors=np.zeros((labels.shape[0],classes))\n",
    "        for i,l in enumerate(labels):\n",
    "            vectors[i,l]=1\n",
    "        return vectors\n",
    "    def train(self,learning_rate=0.01,epochs=10,batch_size=128):\n",
    "        y_one_hot_vector=self.get_one_hot_vector(self.y)\n",
    "        for e in range(epochs):\n",
    "            size=0\n",
    "            while size+batch_size < self.X.shape[0]:\n",
    "                x_batch=self.X[size:size+batch_size]\n",
    "                y_batch=self.y[size:size+batch_size]\n",
    "                size=size+batch_size\n",
    "                \n",
    "                y_batch_one_hot=self.get_one_hot_vector(y_batch)\n",
    "                yhat_batch=self.forward(x_batch)\n",
    "                self.backprop(x_batch,y_batch_one_hot,yhat_batch,learning_rate=0.01)\n",
    "            yhat=self.forward(self.X)\n",
    "            self.losses.append((self.compute_loss(y_one_hot_vector,yhat)))\n",
    "            print(\"loss at epoch {} is {} \".format(e,self.losses[-1]))\n",
    "        "
   ]
  },
  {
   "cell_type": "code",
   "execution_count": 36,
   "metadata": {},
   "outputs": [
    {
     "data": {
      "text/plain": [
       "((33600, 784), (8400, 784), (33600,), (8400,))"
      ]
     },
     "execution_count": 36,
     "metadata": {},
     "output_type": "execute_result"
    }
   ],
   "source": [
    "from sklearn.model_selection import train_test_split\n",
    "\n",
    "X_train, X_test, y_train, y_test = train_test_split(X, y, test_size=0.2)\n",
    "X_train.shape, X_test.shape, y_train.shape, y_test.shape"
   ]
  },
  {
   "cell_type": "code",
   "execution_count": 37,
   "metadata": {},
   "outputs": [],
   "source": [
    "nn = NeuralNetwork(X_train, y_train)"
   ]
  },
  {
   "cell_type": "code",
   "execution_count": 38,
   "metadata": {},
   "outputs": [
    {
     "data": {
      "text/plain": [
       "(784, 256, 64, 10)"
      ]
     },
     "execution_count": 38,
     "metadata": {},
     "output_type": "execute_result"
    }
   ],
   "source": [
    "nn.INPUT_SIZE, nn.H1_SIZE, nn.H2_SIZE, nn.OUTPUT_SIZE"
   ]
  },
  {
   "cell_type": "code",
   "execution_count": 39,
   "metadata": {},
   "outputs": [
    {
     "name": "stdout",
     "output_type": "stream",
     "text": [
      "First Loss:  112911.70367951189\n"
     ]
    }
   ],
   "source": [
    "print(\"First Loss: \", nn.compute_loss(nn.get_one_hot_vector(nn.y), nn.forward(nn.X)))"
   ]
  },
  {
   "cell_type": "code",
   "execution_count": 40,
   "metadata": {},
   "outputs": [
    {
     "name": "stdout",
     "output_type": "stream",
     "text": [
      "loss at epoch 0 is 15819.597047477619 \n",
      "loss at epoch 1 is 11398.980203905725 \n",
      "loss at epoch 2 is 9212.94309249586 \n",
      "loss at epoch 3 is 7767.514800069868 \n",
      "loss at epoch 4 is 6674.892833352328 \n",
      "loss at epoch 5 is 5815.286808321989 \n",
      "loss at epoch 6 is 5112.981993067704 \n",
      "loss at epoch 7 is 4524.879959291131 \n",
      "loss at epoch 8 is 4027.3927440529105 \n",
      "loss at epoch 9 is 3609.2616046036246 \n",
      "loss at epoch 10 is 3252.087209739765 \n",
      "loss at epoch 11 is 2939.5869417261533 \n",
      "loss at epoch 12 is 2666.084360784478 \n",
      "loss at epoch 13 is 2423.9296997700053 \n",
      "loss at epoch 14 is 2204.7352221820092 \n",
      "loss at epoch 15 is 2003.6779168688686 \n",
      "loss at epoch 16 is 1819.5007098137173 \n",
      "loss at epoch 17 is 1650.8531922845427 \n",
      "loss at epoch 18 is 1497.0575251550115 \n",
      "loss at epoch 19 is 1356.964931264893 \n"
     ]
    }
   ],
   "source": [
    "nn.train(learning_rate=0.01, epochs=20, batch_size=128)"
   ]
  },
  {
   "cell_type": "code",
   "execution_count": 41,
   "metadata": {},
   "outputs": [
    {
     "data": {
      "image/png": "[encoded data removed]",
      "text/plain": [
       "<Figure size 432x288 with 1 Axes>"
      ]
     },
     "metadata": {
      "needs_background": "light"
     },
     "output_type": "display_data"
    }
   ],
   "source": [
    "plt.figure()\n",
    "plt.plot(nn.losses)\n",
    "plt.show()"
   ]
  },
  {
   "cell_type": "code",
   "execution_count": 42,
   "metadata": {},
   "outputs": [
    {
     "name": "stderr",
     "output_type": "stream",
     "text": [
      "/Library/Frameworks/Python.framework/Versions/3.7/lib/python3.7/site-packages/ipykernel_launcher.py:21: RuntimeWarning: overflow encountered in exp\n"
     ]
    },
    {
     "name": "stdout",
     "output_type": "stream",
     "text": [
      "Testing Acc:  0.9085714285714286\n",
      "Training Acc: 0.9660119047619048\n"
     ]
    }
   ],
   "source": [
    "preds = nn.get_prediction(X_test)\n",
    "print(\"Testing Acc: \", nn.accuracy(preds, y_test))\n",
    "\n",
    "train_preds = nn.get_prediction(X_train)\n",
    "print(\"Training Acc:\", nn.accuracy(train_preds, y_train))"
   ]
  },
  {
   "cell_type": "code",
   "execution_count": null,
   "metadata": {},
   "outputs": [],
   "source": []
  }
 ],
 "metadata": {
  "kernelspec": {
   "display_name": "Python 3",
   "language": "python",
   "name": "python3"
  },
  "language_info": {
   "codemirror_mode": {
    "name": "ipython",
    "version": 3
   },
   "file_extension": ".py",
   "mimetype": "text/x-python",
   "name": "python",
   "nbconvert_exporter": "python",
   "pygments_lexer": "ipython3",
   "version": "3.7.0"
  }
 },
 "nbformat": 4,
 "nbformat_minor": 2
}
