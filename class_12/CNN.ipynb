{
 "cells": [
  {
   "cell_type": "code",
   "execution_count": 2,
   "metadata": {},
   "outputs": [],
   "source": [
    "import numpy as np\n",
    "import pandas as pd\n",
    "import matplotlib.pyplot as plt\n",
    "from sklearn.model_selection import train_test_split\n",
    "\n",
    "import keras\n",
    "from keras.models import Sequential\n",
    "from keras.layers import Conv2D,MaxPool2D,Dense,Flatten,Activation\n",
    "from keras.utils import np_utils"
   ]
  },
  {
   "cell_type": "code",
   "execution_count": 3,
   "metadata": {},
   "outputs": [],
   "source": [
    "ds=pd.read_csv(\"../Datasets/fashion-mnist-test.csv\")"
   ]
  },
  {
   "cell_type": "code",
   "execution_count": 4,
   "metadata": {},
   "outputs": [
    {
     "name": "stdout",
     "output_type": "stream",
     "text": [
      "(10000, 785)\n"
     ]
    }
   ],
   "source": [
    "dataset=ds.values\n",
    "print(ds.shape)"
   ]
  },
  {
   "cell_type": "code",
   "execution_count": 5,
   "metadata": {},
   "outputs": [
    {
     "name": "stdout",
     "output_type": "stream",
     "text": [
      "[  0   0   0   0   0   0   0   0   9   8   0   0  34  29   7   0  11  24\n",
      "   0   0   3   3   1   0   1   1   0   0   0   0   0   4   0   0   1   0\n",
      "   0   0   0   0  44  88  99 122 123  80   0   0   0   0   1   1   1   0\n",
      "   0   0   0   0   0   1   2   0   0   0   3  46 174 249  67   0  94 210\n",
      "  61  14 212 157  37   0   0   0   0   1   0   0   0   0   0   2   2   0\n",
      "  23 168 206 242 239 238 214 125  61 113  74 133 236 238 236 203 184  20\n",
      "   0   1   0   0   0   0   0   1   0   0 175 245 223 207 205 206 216 255\n",
      " 237 251 232 223 212 200 205 216 249 173   0   0   2   0   0   0   0   7\n",
      "   0  53 225 201 197 200 201 206 199 197 185 194 204 232 226 249 219 194\n",
      " 205 229  33   0   1   0   0   0   0   1   0 133 223 208 192 195 233 226\n",
      " 216 191 210 188 236 186   0  50 234 207 208 231 133   0   0   0   0   0\n",
      "   0   0   0 216 218 216 194 229 172  64 219 201 200 200 247  68  72  54\n",
      " 165 237 212 219 226   0   0   0   0   0   0   0  50 221 207 220 211 207\n",
      " 165 138 205 192 191 190 232 119 113  67 173 237 217 208 221  29   0   0\n",
      "   0   0   0   0 131 216 200 219 207 212 231 226 193 214 224 206 203 230\n",
      " 122 112 234 224 214 204 224 123   0   0   0   0   0   0 195 212 204 211\n",
      " 203 205 200 184 213 162 138 193 207 203 231 245 208 220 211 203 219 179\n",
      "   0   0   0   0   0   8 185 191 218 233 219 201 221 213 246 114 127  80\n",
      " 129 232 198 218 207 236 227 220 216 172  21   0   0   0   0  21   4   5\n",
      "  64 160 224 224 144 187 197 211 207 186 192 210 212 218 225 236 177 106\n",
      "  56  28   1   0   0   0   0   1   1   0   2   0 116 252  96 120  51  73\n",
      "  70 123  79  76  64 162 252 118   1   3   0   4   2   0   0   0   0   0\n",
      "   0   0   0   0 115 226 145 170 155 165 161 159 125 175 140 174 236  95\n",
      "   0   2   2   0   0   0   0   0   0   0   0   1   2   0 131 225 204 217\n",
      " 221 220 217 224 231 226 237 203 237 102   0   4   2   1   2   0   0   0\n",
      "   0   1   1   0   3   0 135 223 201 199 194 198 195 198 192 203 199 207\n",
      " 231 112   0   4   0   0   0   0   0   0   0   1   1   0   1   0 134 223\n",
      " 199 206 199 201 200 203 206 207 210 206 227 119   0   3   0   0   1   0\n",
      "   0   0   0   0   0   0   1   0 139 223 198 204 200 201 200 201 204 206\n",
      " 208 206 229 128   0   4   0   0   0   0   0   0   0   0   0   0   1   0\n",
      " 145 223 195 205 201 201 200 204 204 206 211 205 230 139   0   2   0   0\n",
      "   0   0   0   0   0   1   0   1   0   0 157 221 194 204 204 201 201 203\n",
      " 205 208 211 204 230 148   0   2   0   1   1   0   0   0   0   1   1   1\n",
      "   0   0 166 220 194 203 203 205 203 203 206 207 212 204 230 157   0   2\n",
      "   1   1   1   0   0   0   0   0   0   0   0   0 171 221 195 206 200 199\n",
      " 203 203 205 206 207 204 226 181   0   0   0   0   0   0   0   0   0   0\n",
      "   0   1   0   0 165 224 197 201 208 199 204 205 207 210 213 207 229 187\n",
      "   0   1   2   0   0   0   0   0   0   0   0   0   0   0 128 201 203 201\n",
      " 207 211 203 205 206 210 213 205 225 191   0   0   2   0   0   0   0   0\n",
      "   0   0   0   1   1   0 141 201 191 188 194 187 187 191 193 195 199 199\n",
      " 218 161   0   0   0   0   0   0   0   0   0   0   0   0   1   0 212 240\n",
      " 213 239 233 239 231 232 236 242 245 224 245 234   0   3   0   0   0   0\n",
      "   0   0   0   0   0   0   0   0  37  69  94 123 127 138 138 142 145 135\n",
      " 125 103  87  56   0   0   0   0   0   0   0]\n"
     ]
    }
   ],
   "source": [
    "print(dataset[0])"
   ]
  },
  {
   "cell_type": "code",
   "execution_count": 6,
   "metadata": {},
   "outputs": [
    {
     "data": {
      "image/png": "[encoded data removed]",
      "text/plain": [
       "<Figure size 432x288 with 1 Axes>"
      ]
     },
     "metadata": {
      "needs_background": "light"
     },
     "output_type": "display_data"
    }
   ],
   "source": [
    "plt.imshow(dataset[0,1:].reshape(28,28),cmap='gray')\n",
    "plt.show()"
   ]
  },
  {
   "cell_type": "code",
   "execution_count": 7,
   "metadata": {},
   "outputs": [],
   "source": [
    "X, y = dataset[:, 1:], dataset[:, 0]\n",
    "X_train, X_test, y_train, y_test = train_test_split(X, y, test_size=0.2)"
   ]
  },
  {
   "cell_type": "code",
   "execution_count": 8,
   "metadata": {},
   "outputs": [
    {
     "data": {
      "text/plain": [
       "((8000, 784), (2000, 784), (8000,), (2000,))"
      ]
     },
     "execution_count": 8,
     "metadata": {},
     "output_type": "execute_result"
    }
   ],
   "source": [
    "X_train.shape,X_test.shape,y_train.shape,y_test.shape"
   ]
  },
  {
   "cell_type": "code",
   "execution_count": 10,
   "metadata": {},
   "outputs": [
    {
     "data": {
      "image/png": "[encoded data removed]",
      "text/plain": [
       "<Figure size 432x288 with 1 Axes>"
      ]
     },
     "metadata": {
      "needs_background": "light"
     },
     "output_type": "display_data"
    }
   ],
   "source": [
    "plt.imshow(X_train[0].reshape(28,28),cmap='gray')\n",
    "plt.show()"
   ]
  },
  {
   "cell_type": "code",
   "execution_count": 11,
   "metadata": {},
   "outputs": [],
   "source": [
    "y_train = np_utils.to_categorical(y_train)\n",
    "y_test  = np_utils.to_categorical(y_test)"
   ]
  },
  {
   "cell_type": "code",
   "execution_count": 12,
   "metadata": {},
   "outputs": [],
   "source": [
    "X_train, X_test = X_train.reshape((-1,28,28,1)), X_test.reshape((-1,28,28,1))"
   ]
  },
  {
   "cell_type": "code",
   "execution_count": 13,
   "metadata": {},
   "outputs": [
    {
     "data": {
      "text/plain": [
       "((8000, 28, 28, 1), (2000, 28, 28, 1), (8000, 10), (2000, 10))"
      ]
     },
     "execution_count": 13,
     "metadata": {},
     "output_type": "execute_result"
    }
   ],
   "source": [
    "X_train.shape, X_test.shape, y_train.shape, y_test.shape"
   ]
  },
  {
   "cell_type": "code",
   "execution_count": 16,
   "metadata": {},
   "outputs": [
    {
     "name": "stdout",
     "output_type": "stream",
     "text": [
      "_________________________________________________________________\n",
      "Layer (type)                 Output Shape              Param #   \n",
      "=================================================================\n",
      "conv2d_2 (Conv2D)            (None, 26, 26, 4)         40        \n",
      "_________________________________________________________________\n",
      "activation_2 (Activation)    (None, 26, 26, 4)         0         \n",
      "_________________________________________________________________\n",
      "max_pooling2d_2 (MaxPooling2 (None, 13, 13, 4)         0         \n",
      "_________________________________________________________________\n",
      "conv2d_3 (Conv2D)            (None, 11, 11, 8)         296       \n",
      "_________________________________________________________________\n",
      "activation_3 (Activation)    (None, 11, 11, 8)         0         \n",
      "_________________________________________________________________\n",
      "max_pooling2d_3 (MaxPooling2 (None, 5, 5, 8)           0         \n",
      "_________________________________________________________________\n",
      "flatten_1 (Flatten)          (None, 200)               0         \n",
      "_________________________________________________________________\n",
      "dense_1 (Dense)              (None, 100)               20100     \n",
      "_________________________________________________________________\n",
      "dense_2 (Dense)              (None, 10)                1010      \n",
      "_________________________________________________________________\n",
      "activation_4 (Activation)    (None, 10)                0         \n",
      "=================================================================\n",
      "Total params: 21,446\n",
      "Trainable params: 21,446\n",
      "Non-trainable params: 0\n",
      "_________________________________________________________________\n"
     ]
    }
   ],
   "source": [
    "model=Sequential()\n",
    "\n",
    "model.add(Conv2D(4,(3,3),input_shape=(28,28,1)))\n",
    "model.add(Activation('relu'))\n",
    "model.add(MaxPool2D((2,2)))\n",
    "\n",
    "\n",
    "model.add(Conv2D(8,(3,3)))\n",
    "model.add(Activation('relu'))\n",
    "model.add(MaxPool2D((2,2)))\n",
    "\n",
    "model.add(Flatten())\n",
    "model.add(Dense(100,activation='sigmoid'))\n",
    "model.add(Dense(10))\n",
    "model.add(Activation('softmax'))\n",
    "          \n",
    "model.summary()"
   ]
  },
  {
   "cell_type": "code",
   "execution_count": 18,
   "metadata": {},
   "outputs": [],
   "source": [
    "model.compile(loss='categorical_crossentropy',\n",
    "              optimizer='adam',\n",
    "              metrics=['accuracy'])"
   ]
  },
  {
   "cell_type": "code",
   "execution_count": 19,
   "metadata": {},
   "outputs": [
    {
     "name": "stdout",
     "output_type": "stream",
     "text": [
      "Train on 8000 samples, validate on 2000 samples\n",
      "Epoch 1/30\n",
      "8000/8000 [==============================] - 1s 147us/step - loss: 1.6357 - acc: 0.5000 - val_loss: 1.1729 - val_acc: 0.6590\n",
      "Epoch 2/30\n",
      "8000/8000 [==============================] - 1s 141us/step - loss: 1.0268 - acc: 0.6847 - val_loss: 0.8503 - val_acc: 0.7410\n",
      "Epoch 3/30\n",
      "8000/8000 [==============================] - 1s 142us/step - loss: 0.8118 - acc: 0.7349 - val_loss: 0.7064 - val_acc: 0.7635\n",
      "Epoch 4/30\n",
      "8000/8000 [==============================] - 1s 144us/step - loss: 0.6927 - acc: 0.7636 - val_loss: 0.6123 - val_acc: 0.7940\n",
      "Epoch 5/30\n",
      "8000/8000 [==============================] - 1s 142us/step - loss: 0.6206 - acc: 0.7886 - val_loss: 0.5733 - val_acc: 0.8010\n",
      "Epoch 6/30\n",
      "8000/8000 [==============================] - 1s 142us/step - loss: 0.5728 - acc: 0.7976 - val_loss: 0.5323 - val_acc: 0.8120\n",
      "Epoch 7/30\n",
      "8000/8000 [==============================] - 1s 141us/step - loss: 0.5404 - acc: 0.8073 - val_loss: 0.5153 - val_acc: 0.8120\n",
      "Epoch 8/30\n",
      "8000/8000 [==============================] - 1s 140us/step - loss: 0.5176 - acc: 0.8119 - val_loss: 0.4983 - val_acc: 0.8280\n",
      "Epoch 9/30\n",
      "8000/8000 [==============================] - 1s 141us/step - loss: 0.4921 - acc: 0.8234 - val_loss: 0.4786 - val_acc: 0.8275\n",
      "Epoch 10/30\n",
      "8000/8000 [==============================] - 1s 141us/step - loss: 0.4723 - acc: 0.8317 - val_loss: 0.4626 - val_acc: 0.8350\n",
      "Epoch 11/30\n",
      "8000/8000 [==============================] - 1s 141us/step - loss: 0.4590 - acc: 0.8323 - val_loss: 0.4530 - val_acc: 0.8405\n",
      "Epoch 12/30\n",
      "8000/8000 [==============================] - 1s 139us/step - loss: 0.4318 - acc: 0.8448 - val_loss: 0.4466 - val_acc: 0.8370\n",
      "Epoch 13/30\n",
      "8000/8000 [==============================] - 1s 138us/step - loss: 0.4183 - acc: 0.8505 - val_loss: 0.4339 - val_acc: 0.8405\n",
      "Epoch 14/30\n",
      "8000/8000 [==============================] - 1s 137us/step - loss: 0.4075 - acc: 0.8531 - val_loss: 0.4258 - val_acc: 0.8500\n",
      "Epoch 15/30\n",
      "8000/8000 [==============================] - 1s 140us/step - loss: 0.3901 - acc: 0.8566 - val_loss: 0.4198 - val_acc: 0.8405\n",
      "Epoch 16/30\n",
      "8000/8000 [==============================] - 1s 138us/step - loss: 0.3809 - acc: 0.8604 - val_loss: 0.4145 - val_acc: 0.8480\n",
      "Epoch 17/30\n",
      "8000/8000 [==============================] - 1s 139us/step - loss: 0.3680 - acc: 0.8653 - val_loss: 0.4137 - val_acc: 0.8455\n",
      "Epoch 18/30\n",
      "8000/8000 [==============================] - 1s 137us/step - loss: 0.3583 - acc: 0.8671 - val_loss: 0.4059 - val_acc: 0.8495\n",
      "Epoch 19/30\n",
      "8000/8000 [==============================] - 1s 137us/step - loss: 0.3431 - acc: 0.8759 - val_loss: 0.3985 - val_acc: 0.8470\n",
      "Epoch 20/30\n",
      "8000/8000 [==============================] - 1s 137us/step - loss: 0.3329 - acc: 0.8801 - val_loss: 0.4117 - val_acc: 0.8485\n",
      "Epoch 21/30\n",
      "8000/8000 [==============================] - 1s 138us/step - loss: 0.3182 - acc: 0.8845 - val_loss: 0.3895 - val_acc: 0.8555\n",
      "Epoch 22/30\n",
      "8000/8000 [==============================] - 1s 139us/step - loss: 0.3141 - acc: 0.8868 - val_loss: 0.3925 - val_acc: 0.8555\n",
      "Epoch 23/30\n",
      "8000/8000 [==============================] - 1s 139us/step - loss: 0.3045 - acc: 0.8915 - val_loss: 0.3826 - val_acc: 0.8615\n",
      "Epoch 24/30\n",
      "8000/8000 [==============================] - 1s 137us/step - loss: 0.2947 - acc: 0.8924 - val_loss: 0.3763 - val_acc: 0.8630\n",
      "Epoch 25/30\n",
      "8000/8000 [==============================] - 1s 139us/step - loss: 0.2865 - acc: 0.8990 - val_loss: 0.3807 - val_acc: 0.8665\n",
      "Epoch 26/30\n",
      "8000/8000 [==============================] - 1s 138us/step - loss: 0.2731 - acc: 0.9056 - val_loss: 0.3765 - val_acc: 0.8610\n",
      "Epoch 27/30\n",
      "8000/8000 [==============================] - 1s 139us/step - loss: 0.2668 - acc: 0.9080 - val_loss: 0.3779 - val_acc: 0.8560\n",
      "Epoch 28/30\n",
      "8000/8000 [==============================] - 1s 139us/step - loss: 0.2602 - acc: 0.9105 - val_loss: 0.3810 - val_acc: 0.8575\n",
      "Epoch 29/30\n",
      "8000/8000 [==============================] - 1s 140us/step - loss: 0.2548 - acc: 0.9120 - val_loss: 0.3784 - val_acc: 0.8640\n",
      "Epoch 30/30\n",
      "8000/8000 [==============================] - 1s 141us/step - loss: 0.2484 - acc: 0.9144 - val_loss: 0.3791 - val_acc: 0.8600\n"
     ]
    }
   ],
   "source": [
    "hist = model.fit(X_train, y_train,\n",
    "          shuffle=True,\n",
    "          batch_size=128,\n",
    "          epochs=30,\n",
    "          validation_data=(X_test, y_test)\n",
    "         )"
   ]
  },
  {
   "cell_type": "code",
   "execution_count": 20,
   "metadata": {},
   "outputs": [
    {
     "data": {
      "image/png": "[encoded data removed]",
      "text/plain": [
       "<Figure size 432x288 with 1 Axes>"
      ]
     },
     "metadata": {
      "needs_background": "light"
     },
     "output_type": "display_data"
    },
    {
     "data": {
      "image/png": "[encoded data removed]",
      "text/plain": [
       "<Figure size 432x288 with 1 Axes>"
      ]
     },
     "metadata": {
      "needs_background": "light"
     },
     "output_type": "display_data"
    }
   ],
   "source": [
    "plt.figure(0)\n",
    "plt.title(\"Loss\")\n",
    "plt.plot(hist.history['loss'], 'r', label='Training')\n",
    "plt.plot(hist.history['val_loss'], 'b', label='Testing')\n",
    "plt.legend()\n",
    "plt.show()\n",
    "\n",
    "plt.figure(1)\n",
    "plt.title(\"Accuracy\")\n",
    "plt.plot(hist.history['acc'], 'r', label='Training')\n",
    "plt.plot(hist.history['val_acc'], 'b', label='Testing')\n",
    "plt.legend()\n",
    "plt.show()"
   ]
  },
  {
   "cell_type": "code",
   "execution_count": null,
   "metadata": {},
   "outputs": [],
   "source": []
  }
 ],
 "metadata": {
  "kernelspec": {
   "display_name": "Python 3",
   "language": "python",
   "name": "python3"
  },
  "language_info": {
   "codemirror_mode": {
    "name": "ipython",
    "version": 3
   },
   "file_extension": ".py",
   "mimetype": "text/x-python",
   "name": "python",
   "nbconvert_exporter": "python",
   "pygments_lexer": "ipython3",
   "version": "3.7.0"
  }
 },
 "nbformat": 4,
 "nbformat_minor": 2
}
