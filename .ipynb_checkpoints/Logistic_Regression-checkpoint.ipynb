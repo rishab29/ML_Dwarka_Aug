{
 "cells": [
  {
   "cell_type": "code",
   "execution_count": 172,
   "metadata": {},
   "outputs": [],
   "source": [
    "import numpy as np\n",
    "import pandas as pd\n",
    "import matplotlib.pyplot as plt"
   ]
  },
  {
   "cell_type": "code",
   "execution_count": 173,
   "metadata": {},
   "outputs": [
    {
     "name": "stdout",
     "output_type": "stream",
     "text": [
      "(500, 2)\n",
      "(500, 2)\n"
     ]
    }
   ],
   "source": [
    "mean1=[2,4]\n",
    "cov1=[[1,0.5],[0.5,1]]\n",
    "\n",
    "d1=np.random.multivariate_normal(mean1,cov1,500)\n",
    "\n",
    "mean2=[6,7]\n",
    "cov2=[[1,0.5],[0.5,1]]\n",
    "\n",
    "d2=np.random.multivariate_normal(mean2,cov2,500)\n",
    "print(d1.shape)\n",
    "print(d2.shape)\n"
   ]
  },
  {
   "cell_type": "code",
   "execution_count": 174,
   "metadata": {},
   "outputs": [
    {
     "data": {
      "image/png": "[encoded data removed]",
      "text/plain": [
       "<Figure size 432x288 with 1 Axes>"
      ]
     },
     "metadata": {
      "needs_background": "light"
     },
     "output_type": "display_data"
    }
   ],
   "source": [
    "plt.scatter(d1[:,0],d1[:,1],c='red')\n",
    "plt.scatter(d2[:,0],d1[:,1],c='green')\n",
    "plt.show()"
   ]
  },
  {
   "cell_type": "code",
   "execution_count": 175,
   "metadata": {},
   "outputs": [
    {
     "name": "stdout",
     "output_type": "stream",
     "text": [
      "(1000, 3)\n"
     ]
    }
   ],
   "source": [
    "# red is 0 and green is 1\n",
    "data=np.zeros((d1.shape[0]+d2.shape[0],d1.shape[1]+1))\n",
    "data[:d1.shape[0],:-1]=d1\n",
    "data[:d1.shape[0],-1]=0\n",
    "\n",
    "data[d1.shape[0]:,:-1]=d2\n",
    "data[d1.shape[0]:,-1]=1\n",
    "\n",
    "print(data.shape)\n",
    "np.random.shuffle(data)\n"
   ]
  },
  {
   "cell_type": "code",
   "execution_count": 176,
   "metadata": {},
   "outputs": [
    {
     "name": "stdout",
     "output_type": "stream",
     "text": [
      "[[2.19987514 3.02183906 0.        ]\n",
      " [5.27160127 6.86643079 1.        ]\n",
      " [4.89709318 6.7697643  1.        ]\n",
      " ...\n",
      " [1.83002022 5.2289697  0.        ]\n",
      " [5.97917954 6.62513273 1.        ]\n",
      " [2.47598101 4.02922429 0.        ]]\n"
     ]
    }
   ],
   "source": [
    "print(data)"
   ]
  },
  {
   "cell_type": "code",
   "execution_count": 177,
   "metadata": {},
   "outputs": [],
   "source": [
    "from sklearn.model_selection import train_test_split"
   ]
  },
  {
   "cell_type": "code",
   "execution_count": 178,
   "metadata": {},
   "outputs": [
    {
     "name": "stdout",
     "output_type": "stream",
     "text": [
      "(800, 2)\n",
      "(200, 2)\n",
      "(800,)\n",
      "(200,)\n"
     ]
    }
   ],
   "source": [
    "X_train,X_test,y_train,y_test=train_test_split(data[:,:-1],data[:,-1],test_size=0.2)\n",
    "print(X_train.shape)\n",
    "print(X_test.shape)\n",
    "print(y_train.shape)\n",
    "print(y_test.shape)"
   ]
  },
  {
   "cell_type": "code",
   "execution_count": 179,
   "metadata": {},
   "outputs": [],
   "source": [
    "class LogisticRegression:\n",
    "    def __init__(self,X,y):\n",
    "        self.X=X\n",
    "        self.y=y\n",
    "        self.w0=np.random.random()\n",
    "        self.w=np.random.uniform(low=-1,high=1,size=(self.X.shape[1],))\n",
    "    def hypothesis(self,x):\n",
    "        z=self.w0+self.w.dot(x)\n",
    "        return self.sigmoid(z)\n",
    "    def sigmoid(self,z):\n",
    "        return 1/(1+np.exp(-z))\n",
    "    def predict(self,x):\n",
    "        hx=self.hypothesis(x)\n",
    "        if hx>=0.5:\n",
    "            return 1\n",
    "        else:\n",
    "            return 0\n",
    "    def compute_loss(self):\n",
    "        log_loss=0\n",
    "        for x,y in zip(self.X,self.y):\n",
    "            yhat=self.hypothesis(x)\n",
    "            log_loss=log_loss+(y*np.log2(yhat+1e-3)+(1-y)*np.log2(1-yhat+1e-3))\n",
    "        negative_log_likelihood=-1*log_loss\n",
    "        return negative_log_likelihood\n",
    "    def compute_gradients(self):\n",
    "        grad0=0\n",
    "        grad=np.array((self.X.shape[1],))\n",
    "        for x,y in zip(self.X,self.y):\n",
    "            yhat=self.hypothesis(x)\n",
    "            grad0=grad0+(yhat-y)\n",
    "            grad=grad+((yhat-y)*x)\n",
    "        gradients = grad0 , grad\n",
    "        return gradients\n",
    "    def update_gradients(self,gradients,learning_rate=0.01):\n",
    "        self.w0=self.w0-(learning_rate*gradients[0])\n",
    "        self.w=self.w-(learning_rate*gradients[1])\n",
    "        \n",
    "    def train(self,losses,iterations,learning_rate=0.01):\n",
    "        for i in range(iterations):\n",
    "            gradients=self.compute_gradients()\n",
    "            self.update_gradients(gradients,learning_rate)\n",
    "            losses.append(self.compute_loss())\n",
    "        return losses\n",
    "    def accuracy(self,x_test,y_test):\n",
    "        predictions=[]\n",
    "        for x,y in zip(x_test,y_test):\n",
    "            pred=self.predict(x)\n",
    "            predictions.append(pred)\n",
    "        accuracy=(predictions==y_test).sum()/x_test.shape[0]\n",
    "        return accuracy\n",
    "            \n",
    "            \n",
    "        "
   ]
  },
  {
   "cell_type": "code",
   "execution_count": 180,
   "metadata": {},
   "outputs": [
    {
     "name": "stdout",
     "output_type": "stream",
     "text": [
      "w0 :  0.1543293954485856\n",
      "w:  [-0.16483699 -0.44685011]\n"
     ]
    }
   ],
   "source": [
    "logreg=LogisticRegression(X_train,y_train)\n",
    "print(\"w0 : \",logreg.w0)\n",
    "print(\"w: \",logreg.w)"
   ]
  },
  {
   "cell_type": "code",
   "execution_count": 181,
   "metadata": {},
   "outputs": [
    {
     "name": "stdout",
     "output_type": "stream",
     "text": [
      "[2371.8394233851336]\n"
     ]
    }
   ],
   "source": [
    "losses=[]\n",
    "initial_loss=logreg.compute_loss()\n",
    "losses.append(initial_loss)\n",
    "print(losses)"
   ]
  },
  {
   "cell_type": "code",
   "execution_count": 182,
   "metadata": {},
   "outputs": [],
   "source": [
    "def draw_decision_boundary():\n",
    "    plt.scatter(d1[:,0],d1[:,1],c='red')\n",
    "    plt.scatter(d2[:,0],d1[:,1],c='green')\n",
    "    x=np.array([0,6])\n",
    "    y=-(logreg.w0+logreg.w[0]*x)/logreg.w[1]\n",
    "    plt.plot(x,y,c='black')\n",
    "    plt.show()"
   ]
  },
  {
   "cell_type": "code",
   "execution_count": 183,
   "metadata": {},
   "outputs": [
    {
     "data": {
      "image/png": "[encoded data removed]",
      "text/plain": [
       "<Figure size 432x288 with 1 Axes>"
      ]
     },
     "metadata": {
      "needs_background": "light"
     },
     "output_type": "display_data"
    }
   ],
   "source": [
    "draw_decision_boundary()"
   ]
  },
  {
   "cell_type": "code",
   "execution_count": 184,
   "metadata": {},
   "outputs": [
    {
     "data": {
      "text/plain": [
       "[2371.8394233851336,\n",
       " 3955.835245418821,\n",
       " 3955.639374715768,\n",
       " 2747.365076193375,\n",
       " 3955.835210952229,\n",
       " 3733.539106470439,\n",
       " 3995.755868346682,\n",
       " 3938.8801221741214,\n",
       " 3564.8850108706965,\n",
       " 2656.321527232171,\n",
       " 3816.7125672724424,\n",
       " 1696.9612026177474,\n",
       " 3087.8396329956063,\n",
       " 3762.335671149548,\n",
       " 2092.1570382936125,\n",
       " 2193.2501928833,\n",
       " 3377.910075265099,\n",
       " 620.3191064861082,\n",
       " 727.3678659191219,\n",
       " 919.7935418219878,\n",
       " 1361.2463669589545,\n",
       " 2366.8599322068458,\n",
       " 1523.861495383436,\n",
       " 2490.61566684814,\n",
       " 1215.7315419658978,\n",
       " 2048.055977488723,\n",
       " 1430.2343426108391,\n",
       " 2293.6469149934296,\n",
       " 1144.5017225002446,\n",
       " 1827.4956598911908,\n",
       " 1340.2843238669825,\n",
       " 2143.3519899375433,\n",
       " 1043.5451865939863,\n",
       " 1570.8684858071401,\n",
       " 1181.3441906405037,\n",
       " 1857.7121303893218,\n",
       " 1124.6840262903856,\n",
       " 1723.589076495809,\n",
       " 1105.7659820345739,\n",
       " 1678.5191833718482,\n",
       " 1060.9224856432456,\n",
       " 1585.3016121285232,\n",
       " 1010.1859797692846,\n",
       " 1476.547710238611,\n",
       " 981.1881280406263,\n",
       " 1412.2162148959333,\n",
       " 956.6521248425126,\n",
       " 1357.0362692725603,\n",
       " 918.2337442217103,\n",
       " 1267.573685356572,\n",
       " 835.0592481324884,\n",
       " 1088.143996062018,\n",
       " 758.1890227968634,\n",
       " 942.1015033884584,\n",
       " 702.1544500505526,\n",
       " 840.1375191189074,\n",
       " 709.133420404707,\n",
       " 868.2743699662215,\n",
       " 696.5251512518596,\n",
       " 850.339418900487,\n",
       " 694.3067858583563,\n",
       " 855.6477273869658,\n",
       " 686.6231353426355,\n",
       " 847.216430639193,\n",
       " 681.9712484516918,\n",
       " 845.8745856068992,\n",
       " 676.5653933121879,\n",
       " 842.6873669379959,\n",
       " 672.1732946670628,\n",
       " 842.2286785431753,\n",
       " 669.5744610858633,\n",
       " 846.5488825095283,\n",
       " 671.8799759926003,\n",
       " 863.9337373559914,\n",
       " 683.1248036851543,\n",
       " 904.800859319187,\n",
       " 687.3117587384783,\n",
       " 924.9441357032446,\n",
       " 684.4493873713375,\n",
       " 925.3085013222426,\n",
       " 680.7686720359785,\n",
       " 922.6558527444145,\n",
       " 676.9047250217268,\n",
       " 918.8458012096618,\n",
       " 672.9238444998693,\n",
       " 914.2650323981882,\n",
       " 668.7363399352034,\n",
       " 908.8947050589488,\n",
       " 664.1690584118192,\n",
       " 902.4970510960362,\n",
       " 658.9627503702318,\n",
       " 894.6530088015178,\n",
       " 652.7514473957475,\n",
       " 884.7930188269147,\n",
       " 645.0492859732157,\n",
       " 872.2185998288945,\n",
       " 635.2574916385962,\n",
       " 856.1126711227209,\n",
       " 622.737467113899,\n",
       " 835.6661741649746,\n",
       " 607.1116200759202]"
      ]
     },
     "execution_count": 184,
     "metadata": {},
     "output_type": "execute_result"
    }
   ],
   "source": [
    "logreg.train(losses,100,0.01)"
   ]
  },
  {
   "cell_type": "code",
   "execution_count": 185,
   "metadata": {},
   "outputs": [
    {
     "data": {
      "image/png": "[encoded data removed]",
      "text/plain": [
       "<Figure size 432x288 with 1 Axes>"
      ]
     },
     "metadata": {
      "needs_background": "light"
     },
     "output_type": "display_data"
    }
   ],
   "source": [
    "draw_decision_boundary()"
   ]
  },
  {
   "cell_type": "code",
   "execution_count": 186,
   "metadata": {},
   "outputs": [
    {
     "data": {
      "image/png": "[encoded data removed]",
      "text/plain": [
       "<Figure size 432x288 with 1 Axes>"
      ]
     },
     "metadata": {
      "needs_background": "light"
     },
     "output_type": "display_data"
    }
   ],
   "source": [
    "plt.plot(losses)\n",
    "plt.show()"
   ]
  },
  {
   "cell_type": "code",
   "execution_count": 187,
   "metadata": {},
   "outputs": [
    {
     "name": "stdout",
     "output_type": "stream",
     "text": [
      "0.865\n"
     ]
    }
   ],
   "source": [
    "print(logreg.accuracy(X_test,y_test))"
   ]
  },
  {
   "cell_type": "markdown",
   "metadata": {},
   "source": [
    "# SKLearn Logistic Regression"
   ]
  },
  {
   "cell_type": "code",
   "execution_count": 189,
   "metadata": {},
   "outputs": [],
   "source": [
    "from sklearn.linear_model import LogisticRegression\n",
    "sklogreg=LogisticRegression()"
   ]
  },
  {
   "cell_type": "code",
   "execution_count": 190,
   "metadata": {},
   "outputs": [
    {
     "name": "stderr",
     "output_type": "stream",
     "text": [
      "/Library/Frameworks/Python.framework/Versions/3.7/lib/python3.7/site-packages/sklearn/linear_model/logistic.py:433: FutureWarning: Default solver will be changed to 'lbfgs' in 0.22. Specify a solver to silence this warning.\n",
      "  FutureWarning)\n"
     ]
    },
    {
     "data": {
      "text/plain": [
       "LogisticRegression(C=1.0, class_weight=None, dual=False, fit_intercept=True,\n",
       "          intercept_scaling=1, max_iter=100, multi_class='warn',\n",
       "          n_jobs=None, penalty='l2', random_state=None, solver='warn',\n",
       "          tol=0.0001, verbose=0, warm_start=False)"
      ]
     },
     "execution_count": 190,
     "metadata": {},
     "output_type": "execute_result"
    }
   ],
   "source": [
    "sklogreg.fit(X_train,y_train)"
   ]
  },
  {
   "cell_type": "code",
   "execution_count": null,
   "metadata": {},
   "outputs": [],
   "source": []
  }
 ],
 "metadata": {
  "kernelspec": {
   "display_name": "Python 3",
   "language": "python",
   "name": "python3"
  },
  "language_info": {
   "codemirror_mode": {
    "name": "ipython",
    "version": 3
   },
   "file_extension": ".py",
   "mimetype": "text/x-python",
   "name": "python",
   "nbconvert_exporter": "python",
   "pygments_lexer": "ipython3",
   "version": "3.7.0"
  }
 },
 "nbformat": 4,
 "nbformat_minor": 2
}
